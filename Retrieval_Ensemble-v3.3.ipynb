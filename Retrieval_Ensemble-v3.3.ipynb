{
 "cells": [
  {
   "cell_type": "markdown",
   "id": "3d63f8d7-8cc9-4473-88dd-fc3b0e10ec5c",
   "metadata": {
    "id": "3d63f8d7-8cc9-4473-88dd-fc3b0e10ec5c"
   },
   "source": [
    "## Turkish Instructions Retrieval Emsemble"
   ]
  },
  {
   "cell_type": "markdown",
   "id": "41f29147-546d-4c44-ab4e-f30aee32138f",
   "metadata": {
    "id": "41f29147-546d-4c44-ab4e-f30aee32138f"
   },
   "source": [
    "### Import Libraries"
   ]
  },
  {
   "cell_type": "code",
   "execution_count": 1,
   "id": "81b4059f-f0d9-4d6b-9b20-5a3a26f51932",
   "metadata": {
    "executionInfo": {
     "elapsed": 2977,
     "status": "ok",
     "timestamp": 1734514296467,
     "user": {
      "displayName": "Ahmed Ugur",
      "userId": "07278114889288036484"
     },
     "user_tz": -180
    },
    "id": "81b4059f-f0d9-4d6b-9b20-5a3a26f51932"
   },
   "outputs": [],
   "source": [
    "import sys\n",
    "import os\n",
    "import pickle\n",
    "\n",
    "import pandas as pd\n",
    "import numpy as np\n",
    "from sklearn.metrics.pairwise import cosine_similarity\n",
    "\n",
    "import matplotlib.pyplot as plt"
   ]
  },
  {
   "cell_type": "markdown",
   "id": "c810a5ef-9d42-4fe2-b082-3d70134d265a",
   "metadata": {
    "id": "c810a5ef-9d42-4fe2-b082-3d70134d265a"
   },
   "source": [
    "#### Set Path and Constant Values"
   ]
  },
  {
   "cell_type": "code",
   "execution_count": 3,
   "id": "o2TPPI2rUlM0",
   "metadata": {
    "colab": {
     "base_uri": "https://localhost:8080/"
    },
    "executionInfo": {
     "elapsed": 27887,
     "status": "ok",
     "timestamp": 1734514331729,
     "user": {
      "displayName": "Ahmed Ugur",
      "userId": "07278114889288036484"
     },
     "user_tz": -180
    },
    "id": "o2TPPI2rUlM0",
    "outputId": "18f1b184-4cc2-4d56-fdab-e8e296422a3b"
   },
   "outputs": [],
   "source": [
    "# Set Constants\n",
    "\n",
    "# If use Google Colab\n",
    "use_colab = False\n",
    "if use_colab:\n",
    "    from google.colab import drive\n",
    "    drive.mount('/content/drive')\n",
    "    # ROOT_PATH = r\"G:\\Drive'ım\\Colab Notebooks\\HW3\"\n",
    "    ROOT_PATH = \"/content/drive/MyDrive/Colab Notebooks/HW3\"\n",
    "else:\n",
    "    ROOT_PATH = os.getcwd()\n",
    "\n",
    "CACHE_PATH = os.path.join(ROOT_PATH, 'cache')\n",
    "DATA_PATH = os.path.join(ROOT_PATH, 'data')\n",
    "RAW_DATA_PATH = os.path.join(DATA_PATH, 'raw')\n",
    "EMBEDDING_DATA_PATH = os.path.join(DATA_PATH, 'embedding')\n",
    "\n",
    "# Create Folders\n",
    "os.makedirs(RAW_DATA_PATH, exist_ok=True)\n",
    "os.makedirs(EMBEDDING_DATA_PATH, exist_ok=True)\n",
    "os.makedirs(CACHE_PATH, exist_ok=True)"
   ]
  },
  {
   "cell_type": "markdown",
   "id": "yhqNIr2xPPlf",
   "metadata": {
    "id": "yhqNIr2xPPlf"
   },
   "source": [
    "### Embedding Models"
   ]
  },
  {
   "cell_type": "code",
   "execution_count": 4,
   "id": "pJmtzDOMPS2e",
   "metadata": {
    "executionInfo": {
     "elapsed": 288,
     "status": "ok",
     "timestamp": 1734514337671,
     "user": {
      "displayName": "Ahmed Ugur",
      "userId": "07278114889288036484"
     },
     "user_tz": -180
    },
    "id": "pJmtzDOMPS2e"
   },
   "outputs": [],
   "source": [
    "model_name_mapping = {\n",
    "    \"sentence-transformers__all-MiniLM-L12-v2\": \"MiniLM\",\n",
    "    \"jinaai__jina-embeddings-v3\": \"Jina\",\n",
    "    \"intfloat__multilingual-e5-large-instruct\": \"E5-Large\",\n",
    "    \"BAAI__bge-m3\": \"BGE-M3\",\n",
    "    \"ytu-ce-cosmos__turkish-colbert\": \"ColBERT\",\n",
    "    # \"thenlper__gte-large\": \"GTE Large\"\n",
    "}\n",
    "\n",
    "# Embedding modellerin dosya isimleri\n",
    "model_files = list(model_name_mapping.keys())"
   ]
  },
  {
   "cell_type": "markdown",
   "id": "fkyXPWKSGRVk",
   "metadata": {
    "id": "fkyXPWKSGRVk"
   },
   "source": [
    "#### Load Embedding Files"
   ]
  },
  {
   "cell_type": "code",
   "execution_count": 5,
   "id": "sTro5RZ7Dt_p",
   "metadata": {
    "executionInfo": {
     "elapsed": 290,
     "status": "ok",
     "timestamp": 1734514341399,
     "user": {
      "displayName": "Ahmed Ugur",
      "userId": "07278114889288036484"
     },
     "user_tz": -180
    },
    "id": "sTro5RZ7Dt_p"
   },
   "outputs": [],
   "source": [
    "# Fonksiyon: Embedding Dosyalarını Yükle\n",
    "def load_embeddings(model_name):\n",
    "    # Soru ve cevaplar için farklı dosyalara embedding'leri kaydetmiştik\n",
    "    question_file = os.path.join(EMBEDDING_DATA_PATH, f\"question_{model_name}_embeddings.csv.gz\")\n",
    "    answer_file = os.path.join(EMBEDDING_DATA_PATH, f\"answer_{model_name}_embeddings.csv.gz\")\n",
    "    df_questions = pd.read_csv(question_file, compression='gzip')\n",
    "    df_answers = pd.read_csv(answer_file, compression='gzip')\n",
    "\n",
    "    # İlk sütunlar (soru ve cevap) metin olduğu için çıkartılıyor.\n",
    "    return df_questions.iloc[:, 1:].values, df_answers.iloc[:, 1:].values"
   ]
  },
  {
   "cell_type": "markdown",
   "id": "3e9eaf77-32ec-4cfd-896f-60ed4157a4ff",
   "metadata": {
    "id": "yhqNIr2xPPlf"
   },
   "source": [
    "### Cosine Similarity"
   ]
  },
  {
   "cell_type": "markdown",
   "id": "VQVrrN68GfiF",
   "metadata": {
    "id": "VQVrrN68GfiF"
   },
   "source": [
    "#### Description"
   ]
  },
  {
   "cell_type": "markdown",
   "id": "5d3bff7c-f109-442a-ac1c-146044bed4a3",
   "metadata": {},
   "source": [
    "![Alt text](https://storage.googleapis.com/lds-media/images/cosine-similarity-vectors.original.jpg \"a title\")"
   ]
  },
  {
   "cell_type": "markdown",
   "id": "dc47ee44-9174-4e31-99ca-22716df5b367",
   "metadata": {
    "id": "VQVrrN68GfiF"
   },
   "source": [
    "#### Calculate Cosine Similarity and Save Pickle"
   ]
  },
  {
   "cell_type": "code",
   "execution_count": 6,
   "id": "bEQzEWrkGPoc",
   "metadata": {
    "executionInfo": {
     "elapsed": 430,
     "status": "ok",
     "timestamp": 1734514346296,
     "user": {
      "displayName": "Ahmed Ugur",
      "userId": "07278114889288036484"
     },
     "user_tz": -180
    },
    "id": "bEQzEWrkGPoc"
   },
   "outputs": [],
   "source": [
    "def compute_cosine_similarity():\n",
    "    file_path = os.path.join(CACHE_PATH, \"cosine_similarity_data.pkl\")\n",
    "    if os.path.exists(file_path):\n",
    "        with open(file_path, \"rb\") as f:\n",
    "            print(\"Daha önce kaydedilmiş cosine similarity verileri yüklendi.\")\n",
    "            return pickle.load(f)\n",
    "    else:\n",
    "        print(\"Cosine similarity hesaplanıyor...\")\n",
    "        similarity_data = {model: cosine_similarity(*load_embeddings(model)) for model in model_files}\n",
    "        with open(file_path, \"wb\") as f:\n",
    "            pickle.dump(similarity_data, f)\n",
    "        print(\"Cosine similarity hesaplandı ve pickle dosyasına kaydedildi.\")\n",
    "        return similarity_data"
   ]
  },
  {
   "cell_type": "markdown",
   "id": "6UMMLlfUNGu6",
   "metadata": {
    "id": "6UMMLlfUNGu6"
   },
   "source": [
    "#### Load Sampled Dataset"
   ]
  },
  {
   "cell_type": "code",
   "execution_count": 7,
   "id": "Q3XcswCoGRjn",
   "metadata": {
    "executionInfo": {
     "elapsed": 1133,
     "status": "ok",
     "timestamp": 1734514350436,
     "user": {
      "displayName": "Ahmed Ugur",
      "userId": "07278114889288036484"
     },
     "user_tz": -180
    },
    "id": "Q3XcswCoGRjn"
   },
   "outputs": [],
   "source": [
    "df_sample = pd.read_csv(os.path.join(RAW_DATA_PATH, \"sampled_turkish_instructions.csv\"))"
   ]
  },
  {
   "cell_type": "markdown",
   "id": "GE5HsT2MNUJZ",
   "metadata": {
    "id": "GE5HsT2MNUJZ"
   },
   "source": [
    "#### Select a sample index for question. Explain to calculate top-1 and top-5 performance"
   ]
  },
  {
   "cell_type": "code",
   "execution_count": 8,
   "id": "DOTuTsFNBpTe",
   "metadata": {
    "colab": {
     "base_uri": "https://localhost:8080/"
    },
    "executionInfo": {
     "elapsed": 4287,
     "status": "ok",
     "timestamp": 1734467638762,
     "user": {
      "displayName": "Ahmed Ugur",
      "userId": "07278114889288036484"
     },
     "user_tz": -180
    },
    "id": "DOTuTsFNBpTe",
    "outputId": "d8c28dfe-6533-40bb-db29-b92d942bac13"
   },
   "outputs": [
    {
     "name": "stdout",
     "output_type": "stream",
     "text": [
      "Örnek Soru:  Belirli bir konu hakkında bir makale yazın. Konu: Zaman Yönetimi\n",
      "Gerçek Cevap: Zaman yönetimi, hayatta başarılı olmak için sahip olunması gereken önemli bir beceridir. Gününüzden en iyi şekilde yararlanabilmeniz için görevlere öncelik vermenizi ve zamanınızı en iyi şekilde değerlendirmenizi sağlar. Etkili zaman yönetimine sahip olmak aynı zamanda odaklanmanıza ve doğru yolda kalmanıza yardımcı olur ve ertelemeyi önler. Zamanınızı etkili bir şekilde yönetmenin bir yolu, bir program oluşturmak ve ona bağlı kalmaktır. Günün belirli saatlerini belirli etkinliklere ayırmanız ve bu saatlere saygı duymanız önemlidir. Örneğin spor yapmak istiyorsanız her gün aynı saatte bir saat ayırın ve o randevuya mutlaka uyun. Görevleriniz için ulaşılabilir hedefler ve zaman çizelgesi belirlediğinizden de emin olmalısınız. Bunu yaparak, daha büyük görevleri yönetilebilir parçalara ayırabilir ve odaklanmanızı ve motive olmanızı sağlayacak somut hedeflere ve teslim tarihlerine sahip olabilirsiniz. Zaman yönetimini iyileştirmenin bir başka yolu da düzenli kalmak ve bir \"yapılacaklar\" listesi oluşturmaktır. Yapılacaklar listesi, önemli görevleri takip etmenize ve en önemlilerine öncelik vermenize yardımcı olacaktır. Ayrıca, görevleri unutma olasılığını azaltır ve tamamlamanız gereken görevleri hatırlatır. Son olarak, dikkat dağıtıcı unsurları yönetmek, etkili zaman yönetimi için çok önemlidir. Verimli kalmak için, gecikmelere neden olabileceğinden ve üretkenliği engelleyebileceğinden, dikkat dağıtıcı unsurları sınırlamak önemlidir. Düzenli kalmak ve mola vermek bunu önlemeye yardımcı olabilir. Genel olarak, zaman yönetimi hayatta başarılı olmak için sahip olunması gereken çok önemli bir beceridir. Programlar oluşturarak, ulaşılabilir hedefler belirleyerek, düzenli kalarak ve dikkat dağıtıcı unsurları sınırlayarak, kişi zamanını etkili bir şekilde yönetebilir ve daha fazlasını başarabilir.\n",
      "\n",
      "--------------------------------------------------------------------------------\n",
      "Model: sentence-transformers__all-MiniLM-L12-v2\n",
      "\n",
      "Top-5 Cevap Adayları:\n",
      "  1. [0.7902]  Makaleleri bulmak ve yönetmek için kullanılan bir kütüphane yazılımı EndNote'tur.\n",
      "  2. [0.7861]  Öğretmen köpek hakkında bir makale yazdı.\n",
      "  3. [0.7718]  Belirli bir durumdaki kişi muhtemelen bir kaygı bozukluğu yaşıyor.\n",
      "  4. [0.6929] Yapay zeka, bir makinenin akıllı davranışı taklit etme yeteneğidir. <b>Genellikle yinelenen görevleri otomatikleştirmek ve karmaşık kararlar almak için kullanılır.</b>\n",
      "  5. [0.6924]  Yarın üretken olabilmem için dinlenmeye ve şarj olmaya biraz zaman ayırıyorum.\n",
      "\n",
      "Top-1 Cevap: [0.7902]  Makaleleri bulmak ve yönetmek için kullanılan bir kütüphane yazılımı EndNote'tur.\n",
      "\n",
      "----------------------------------------\n",
      "Model: jinaai__jina-embeddings-v3\n",
      "\n",
      "Top-5 Cevap Adayları:\n",
      "  1. [0.7149] Zaman yönetimi, hayatta başarılı olmak için sahip olunması gereken önemli bir beceridir. Gününüzden en iyi şekilde yararlanabilmeniz için görevlere öncelik vermenizi ve zamanınızı en iyi şekilde değerlendirmenizi sağlar. Etkili zaman yönetimine sahip olmak aynı zamanda odaklanmanıza ve doğru yolda kalmanıza yardımcı olur ve ertelemeyi önler. Zamanınızı etkili bir şekilde yönetmenin bir yolu, bir program oluşturmak ve ona bağlı kalmaktır. Günün belirli saatlerini belirli etkinliklere ayırmanız ve bu saatlere saygı duymanız önemlidir. Örneğin spor yapmak istiyorsanız her gün aynı saatte bir saat ayırın ve o randevuya mutlaka uyun. Görevleriniz için ulaşılabilir hedefler ve zaman çizelgesi belirlediğinizden de emin olmalısınız. Bunu yaparak, daha büyük görevleri yönetilebilir parçalara ayırabilir ve odaklanmanızı ve motive olmanızı sağlayacak somut hedeflere ve teslim tarihlerine sahip olabilirsiniz. Zaman yönetimini iyileştirmenin bir başka yolu da düzenli kalmak ve bir \"yapılacaklar\" listesi oluşturmaktır. Yapılacaklar listesi, önemli görevleri takip etmenize ve en önemlilerine öncelik vermenize yardımcı olacaktır. Ayrıca, görevleri unutma olasılığını azaltır ve tamamlamanız gereken görevleri hatırlatır. Son olarak, dikkat dağıtıcı unsurları yönetmek, etkili zaman yönetimi için çok önemlidir. Verimli kalmak için, gecikmelere neden olabileceğinden ve üretkenliği engelleyebileceğinden, dikkat dağıtıcı unsurları sınırlamak önemlidir. Düzenli kalmak ve mola vermek bunu önlemeye yardımcı olabilir. Genel olarak, zaman yönetimi hayatta başarılı olmak için sahip olunması gereken çok önemli bir beceridir. Programlar oluşturarak, ulaşılabilir hedefler belirleyerek, düzenli kalarak ve dikkat dağıtıcı unsurları sınırlayarak, kişi zamanını etkili bir şekilde yönetebilir ve daha fazlasını başarabilir.\n",
      "  2. [0.4552]  Zamanlar zor olabilir, ancak iyi seçilmiş teknikler yardımcı olur.\n",
      "  3. [0.4308]  Bir algoritmanın zaman karmaşıklığını, kodu inceleyerek ve girdinin boyutuna göre her ifadenin aldığı süreyi belirleyerek tahmin edebiliriz. Daha sonra bu bilgiyi, girdinin boyutuyla birlikte algoritma tarafından geçen sürenin nasıl arttığının bir ölçüsünü belirlemek için kullanabiliriz.\n",
      "  4. [0.4120] Kısıtlı sürede bir projeyi tamamlama sorununu çözmek için düşünülebilecek üç çözüm vardır. İlk çözüm, zamanı dikkatli bir şekilde planlamak ve önceliklendirmek. Projeyi önceden planlayarak ve hangi görevlerin en büyük önceliğe sahip olduğunu ve önce tamamlanması gerektiğini anlayarak, proje daha verimli ve hızlı bir şekilde tamamlanabilir. Bu, önemsiz veya alakasız görevlerde zamanın boşa harcanmamasını sağlamaya yardımcı olacaktır. İkinci çözüm, görevleri devretmek. Projenin türüne ve mevcut ekip üyelerinin sayısına bağlı olarak, projeyi tamamlamak için gereken bazı görevleri devretmek mümkün olabilir. Bu, tüm ekibin becerilerini kullanırken herhangi bir kişinin üzerindeki yükü azaltacaktır. Üçüncü çözüm, görevlerin nasıl tamamlanacağı konusunda daha verimli ve yaratıcı olmaktır. Örneğin, görevleri hızlı bir şekilde tamamlamak için teknolojiden yararlanmanın kısayollarını veya yeni yollarını aramak veya alışılmışın dışında düşünmek ve sorunlara yaratıcı çözümler bulmak. Yaratıcı olmak ve projeye yaklaşmanın yeni yollarını aramak, projeyi son teslim tarihinden önce bitirmeye yardımcı olabilir.\n",
      "  5. [0.4112] \"Vakit nakittir\" atasözü, kişinin zamanının değerli bir varlık olduğunu ve içsel bir ekonomik değeri olduğu için akıllıca harcanması gerektiğini ima eder. Zamanı boşa harcamak, para harcamak ve diğer ekonomik konularda israf etmekle aynı olduğundan, insanların zamanlarını verimli ve verimli kullanmaları gerektiğini öne sürer.\n",
      "\n",
      "Top-1 Cevap: [0.7149] Zaman yönetimi, hayatta başarılı olmak için sahip olunması gereken önemli bir beceridir. Gününüzden en iyi şekilde yararlanabilmeniz için görevlere öncelik vermenizi ve zamanınızı en iyi şekilde değerlendirmenizi sağlar. Etkili zaman yönetimine sahip olmak aynı zamanda odaklanmanıza ve doğru yolda kalmanıza yardımcı olur ve ertelemeyi önler. Zamanınızı etkili bir şekilde yönetmenin bir yolu, bir program oluşturmak ve ona bağlı kalmaktır. Günün belirli saatlerini belirli etkinliklere ayırmanız ve bu saatlere saygı duymanız önemlidir. Örneğin spor yapmak istiyorsanız her gün aynı saatte bir saat ayırın ve o randevuya mutlaka uyun. Görevleriniz için ulaşılabilir hedefler ve zaman çizelgesi belirlediğinizden de emin olmalısınız. Bunu yaparak, daha büyük görevleri yönetilebilir parçalara ayırabilir ve odaklanmanızı ve motive olmanızı sağlayacak somut hedeflere ve teslim tarihlerine sahip olabilirsiniz. Zaman yönetimini iyileştirmenin bir başka yolu da düzenli kalmak ve bir \"yapılacaklar\" listesi oluşturmaktır. Yapılacaklar listesi, önemli görevleri takip etmenize ve en önemlilerine öncelik vermenize yardımcı olacaktır. Ayrıca, görevleri unutma olasılığını azaltır ve tamamlamanız gereken görevleri hatırlatır. Son olarak, dikkat dağıtıcı unsurları yönetmek, etkili zaman yönetimi için çok önemlidir. Verimli kalmak için, gecikmelere neden olabileceğinden ve üretkenliği engelleyebileceğinden, dikkat dağıtıcı unsurları sınırlamak önemlidir. Düzenli kalmak ve mola vermek bunu önlemeye yardımcı olabilir. Genel olarak, zaman yönetimi hayatta başarılı olmak için sahip olunması gereken çok önemli bir beceridir. Programlar oluşturarak, ulaşılabilir hedefler belirleyerek, düzenli kalarak ve dikkat dağıtıcı unsurları sınırlayarak, kişi zamanını etkili bir şekilde yönetebilir ve daha fazlasını başarabilir.\n",
      "\n",
      "----------------------------------------\n",
      "Model: intfloat__multilingual-e5-large-instruct\n",
      "\n",
      "Top-5 Cevap Adayları:\n",
      "  1. [0.8708] Zaman yönetimi, hayatta başarılı olmak için sahip olunması gereken önemli bir beceridir. Gününüzden en iyi şekilde yararlanabilmeniz için görevlere öncelik vermenizi ve zamanınızı en iyi şekilde değerlendirmenizi sağlar. Etkili zaman yönetimine sahip olmak aynı zamanda odaklanmanıza ve doğru yolda kalmanıza yardımcı olur ve ertelemeyi önler. Zamanınızı etkili bir şekilde yönetmenin bir yolu, bir program oluşturmak ve ona bağlı kalmaktır. Günün belirli saatlerini belirli etkinliklere ayırmanız ve bu saatlere saygı duymanız önemlidir. Örneğin spor yapmak istiyorsanız her gün aynı saatte bir saat ayırın ve o randevuya mutlaka uyun. Görevleriniz için ulaşılabilir hedefler ve zaman çizelgesi belirlediğinizden de emin olmalısınız. Bunu yaparak, daha büyük görevleri yönetilebilir parçalara ayırabilir ve odaklanmanızı ve motive olmanızı sağlayacak somut hedeflere ve teslim tarihlerine sahip olabilirsiniz. Zaman yönetimini iyileştirmenin bir başka yolu da düzenli kalmak ve bir \"yapılacaklar\" listesi oluşturmaktır. Yapılacaklar listesi, önemli görevleri takip etmenize ve en önemlilerine öncelik vermenize yardımcı olacaktır. Ayrıca, görevleri unutma olasılığını azaltır ve tamamlamanız gereken görevleri hatırlatır. Son olarak, dikkat dağıtıcı unsurları yönetmek, etkili zaman yönetimi için çok önemlidir. Verimli kalmak için, gecikmelere neden olabileceğinden ve üretkenliği engelleyebileceğinden, dikkat dağıtıcı unsurları sınırlamak önemlidir. Düzenli kalmak ve mola vermek bunu önlemeye yardımcı olabilir. Genel olarak, zaman yönetimi hayatta başarılı olmak için sahip olunması gereken çok önemli bir beceridir. Programlar oluşturarak, ulaşılabilir hedefler belirleyerek, düzenli kalarak ve dikkat dağıtıcı unsurları sınırlayarak, kişi zamanını etkili bir şekilde yönetebilir ve daha fazlasını başarabilir.\n",
      "  2. [0.8516]  Metin oluşturma görevi.\n",
      "  3. [0.8516]  Zamanda Yolculuk: Bir Muhasebecinin İnanılmaz Macerası.\n",
      "  4. [0.8498]  Verilen metnin ana teması barıştır.\n",
      "  5. [0.8421] Model, verilen metni “Aile” konusuna ait olarak sınıflandırmalıdır.\n",
      "\n",
      "Top-1 Cevap: [0.8708] Zaman yönetimi, hayatta başarılı olmak için sahip olunması gereken önemli bir beceridir. Gününüzden en iyi şekilde yararlanabilmeniz için görevlere öncelik vermenizi ve zamanınızı en iyi şekilde değerlendirmenizi sağlar. Etkili zaman yönetimine sahip olmak aynı zamanda odaklanmanıza ve doğru yolda kalmanıza yardımcı olur ve ertelemeyi önler. Zamanınızı etkili bir şekilde yönetmenin bir yolu, bir program oluşturmak ve ona bağlı kalmaktır. Günün belirli saatlerini belirli etkinliklere ayırmanız ve bu saatlere saygı duymanız önemlidir. Örneğin spor yapmak istiyorsanız her gün aynı saatte bir saat ayırın ve o randevuya mutlaka uyun. Görevleriniz için ulaşılabilir hedefler ve zaman çizelgesi belirlediğinizden de emin olmalısınız. Bunu yaparak, daha büyük görevleri yönetilebilir parçalara ayırabilir ve odaklanmanızı ve motive olmanızı sağlayacak somut hedeflere ve teslim tarihlerine sahip olabilirsiniz. Zaman yönetimini iyileştirmenin bir başka yolu da düzenli kalmak ve bir \"yapılacaklar\" listesi oluşturmaktır. Yapılacaklar listesi, önemli görevleri takip etmenize ve en önemlilerine öncelik vermenize yardımcı olacaktır. Ayrıca, görevleri unutma olasılığını azaltır ve tamamlamanız gereken görevleri hatırlatır. Son olarak, dikkat dağıtıcı unsurları yönetmek, etkili zaman yönetimi için çok önemlidir. Verimli kalmak için, gecikmelere neden olabileceğinden ve üretkenliği engelleyebileceğinden, dikkat dağıtıcı unsurları sınırlamak önemlidir. Düzenli kalmak ve mola vermek bunu önlemeye yardımcı olabilir. Genel olarak, zaman yönetimi hayatta başarılı olmak için sahip olunması gereken çok önemli bir beceridir. Programlar oluşturarak, ulaşılabilir hedefler belirleyerek, düzenli kalarak ve dikkat dağıtıcı unsurları sınırlayarak, kişi zamanını etkili bir şekilde yönetebilir ve daha fazlasını başarabilir.\n",
      "\n",
      "----------------------------------------\n",
      "Model: BAAI__bge-m3\n",
      "\n",
      "Top-5 Cevap Adayları:\n",
      "  1. [0.7137] Zaman yönetimi, hayatta başarılı olmak için sahip olunması gereken önemli bir beceridir. Gününüzden en iyi şekilde yararlanabilmeniz için görevlere öncelik vermenizi ve zamanınızı en iyi şekilde değerlendirmenizi sağlar. Etkili zaman yönetimine sahip olmak aynı zamanda odaklanmanıza ve doğru yolda kalmanıza yardımcı olur ve ertelemeyi önler. Zamanınızı etkili bir şekilde yönetmenin bir yolu, bir program oluşturmak ve ona bağlı kalmaktır. Günün belirli saatlerini belirli etkinliklere ayırmanız ve bu saatlere saygı duymanız önemlidir. Örneğin spor yapmak istiyorsanız her gün aynı saatte bir saat ayırın ve o randevuya mutlaka uyun. Görevleriniz için ulaşılabilir hedefler ve zaman çizelgesi belirlediğinizden de emin olmalısınız. Bunu yaparak, daha büyük görevleri yönetilebilir parçalara ayırabilir ve odaklanmanızı ve motive olmanızı sağlayacak somut hedeflere ve teslim tarihlerine sahip olabilirsiniz. Zaman yönetimini iyileştirmenin bir başka yolu da düzenli kalmak ve bir \"yapılacaklar\" listesi oluşturmaktır. Yapılacaklar listesi, önemli görevleri takip etmenize ve en önemlilerine öncelik vermenize yardımcı olacaktır. Ayrıca, görevleri unutma olasılığını azaltır ve tamamlamanız gereken görevleri hatırlatır. Son olarak, dikkat dağıtıcı unsurları yönetmek, etkili zaman yönetimi için çok önemlidir. Verimli kalmak için, gecikmelere neden olabileceğinden ve üretkenliği engelleyebileceğinden, dikkat dağıtıcı unsurları sınırlamak önemlidir. Düzenli kalmak ve mola vermek bunu önlemeye yardımcı olabilir. Genel olarak, zaman yönetimi hayatta başarılı olmak için sahip olunması gereken çok önemli bir beceridir. Programlar oluşturarak, ulaşılabilir hedefler belirleyerek, düzenli kalarak ve dikkat dağıtıcı unsurları sınırlayarak, kişi zamanını etkili bir şekilde yönetebilir ve daha fazlasını başarabilir.\n",
      "  2. [0.5550]  Kişisel Yazı.\n",
      "  3. [0.5377] Eğitim ve aile yükümlülüklerini dengelemenin bir yolu, bir program oluşturmak ve önceden plan yapmaktır. Hem eğitim hem de aile için belirli taahhütler ve son tarihler belirleyin ve hangilerinin daha önemli olduğunu ve önceliklendirilmesi gerektiğini belirleyin. Çalışmak ve aile sorumluluklarına katılmak için belirlenmiş zaman dilimleriyle tutarlı bir rutin geliştirin. Bu, her görevin ele alındığından ve anların etkili bir şekilde yönetildiğinden emin olmanıza yardımcı olacaktır. Organize olmak, son dakika teslim tarihlerinden ve görevlerden kaçınmanıza da yardımcı olur. Yapılabilir ve gerçekçi olan makul rutinler oluşturun. Molalar, boş zaman etkinlikleri ve kişisel bakım için zaman ekleyin. Görevlerin ve sorumlulukların aile üyeleri arasında nasıl paylaşılabileceğini tartışmak için aile, arkadaşlar ve diğer destek ağlarıyla bağlantı kurun. Son olarak, bu değişiklikleri aileye ilettiğinizden ve onları sürece dahil ettiğinizden emin olun. Bu, aile üyeleri değişikliklere uyum sağladıkça anlayışı ve işbirliğini geliştirebilir.\n",
      "  4. [0.5354] Kısıtlı sürede bir projeyi tamamlama sorununu çözmek için düşünülebilecek üç çözüm vardır. İlk çözüm, zamanı dikkatli bir şekilde planlamak ve önceliklendirmek. Projeyi önceden planlayarak ve hangi görevlerin en büyük önceliğe sahip olduğunu ve önce tamamlanması gerektiğini anlayarak, proje daha verimli ve hızlı bir şekilde tamamlanabilir. Bu, önemsiz veya alakasız görevlerde zamanın boşa harcanmamasını sağlamaya yardımcı olacaktır. İkinci çözüm, görevleri devretmek. Projenin türüne ve mevcut ekip üyelerinin sayısına bağlı olarak, projeyi tamamlamak için gereken bazı görevleri devretmek mümkün olabilir. Bu, tüm ekibin becerilerini kullanırken herhangi bir kişinin üzerindeki yükü azaltacaktır. Üçüncü çözüm, görevlerin nasıl tamamlanacağı konusunda daha verimli ve yaratıcı olmaktır. Örneğin, görevleri hızlı bir şekilde tamamlamak için teknolojiden yararlanmanın kısayollarını veya yeni yollarını aramak veya alışılmışın dışında düşünmek ve sorunlara yaratıcı çözümler bulmak. Yaratıcı olmak ve projeye yaklaşmanın yeni yollarını aramak, projeyi son teslim tarihinden önce bitirmeye yardımcı olabilir.\n",
      "  5. [0.5320] Herkese günaydın. Bugün kişisel farkındalığın öneminden bahsetmek istiyorum. Hayatımıza devam ederken, zamanımızın büyük bir kısmı dünyadaki yerimizi ve etrafımızdaki insanları belirlemeyle geçiyor. Geri adım atmayı ve en içteki duygularımızı, niyetlerimizi ve motivasyonlarımızı analiz etmeyi unutmak kolay olabilir. Bunu yapmak, ilişkilerimizden kariyer seçimlerimize kadar hayatımızın her alanında son derece faydalı bir etkiye sahip olabilir. Kişisel farkındalık, kendi sınırlarımızı ve yeteneklerimizi anlamak kadar, onlara neden sahip olduğumuzu anlamakla da ilgilidir. Bizi zayıflıklarımızla yüzleşmeye ve yapıcı eleştirilere açık olmaya zorlar. Gelecekte daha iyi kararlar alabilmemiz için koşullarımız ve geçmiş seçimlerimiz üzerinde derinlemesine düşünmemizi sağlar. Kendimize dikkat ederek, etrafımızdaki insanlar üzerindeki etkimizi ve o anda nasıl hissettiklerini daha iyi anlayabiliriz. Aynı zamanda, başkalarını daha fazla kabul etmemizi ve yargılamayı azaltmamızı ve anlayış yaratmamızı teşvik eder. Öz farkındalığa sahip olmak, gerçek kimliğimize ve değerlerimize daha fazla güvenmemizi sağlarken, bize sadece dürtüden daha fazlasıyla beslenen eğitimli kararlar verme netliğini verir. Bu sadece kim olduğunuzu bilmekle ilgili değil, kendinizden en iyi şekilde yararlanmak için kendinizi rahat ve güçlü hissetmekle ilgili. Umarım bu noktalar, kişisel farkındalığın başarımız, mutluluğumuz ve esenliğimiz için neden bu kadar önemli olduğuna ışık tutmuştur. Teşekkür ederim.\n",
      "\n",
      "Top-1 Cevap: [0.7137] Zaman yönetimi, hayatta başarılı olmak için sahip olunması gereken önemli bir beceridir. Gününüzden en iyi şekilde yararlanabilmeniz için görevlere öncelik vermenizi ve zamanınızı en iyi şekilde değerlendirmenizi sağlar. Etkili zaman yönetimine sahip olmak aynı zamanda odaklanmanıza ve doğru yolda kalmanıza yardımcı olur ve ertelemeyi önler. Zamanınızı etkili bir şekilde yönetmenin bir yolu, bir program oluşturmak ve ona bağlı kalmaktır. Günün belirli saatlerini belirli etkinliklere ayırmanız ve bu saatlere saygı duymanız önemlidir. Örneğin spor yapmak istiyorsanız her gün aynı saatte bir saat ayırın ve o randevuya mutlaka uyun. Görevleriniz için ulaşılabilir hedefler ve zaman çizelgesi belirlediğinizden de emin olmalısınız. Bunu yaparak, daha büyük görevleri yönetilebilir parçalara ayırabilir ve odaklanmanızı ve motive olmanızı sağlayacak somut hedeflere ve teslim tarihlerine sahip olabilirsiniz. Zaman yönetimini iyileştirmenin bir başka yolu da düzenli kalmak ve bir \"yapılacaklar\" listesi oluşturmaktır. Yapılacaklar listesi, önemli görevleri takip etmenize ve en önemlilerine öncelik vermenize yardımcı olacaktır. Ayrıca, görevleri unutma olasılığını azaltır ve tamamlamanız gereken görevleri hatırlatır. Son olarak, dikkat dağıtıcı unsurları yönetmek, etkili zaman yönetimi için çok önemlidir. Verimli kalmak için, gecikmelere neden olabileceğinden ve üretkenliği engelleyebileceğinden, dikkat dağıtıcı unsurları sınırlamak önemlidir. Düzenli kalmak ve mola vermek bunu önlemeye yardımcı olabilir. Genel olarak, zaman yönetimi hayatta başarılı olmak için sahip olunması gereken çok önemli bir beceridir. Programlar oluşturarak, ulaşılabilir hedefler belirleyerek, düzenli kalarak ve dikkat dağıtıcı unsurları sınırlayarak, kişi zamanını etkili bir şekilde yönetebilir ve daha fazlasını başarabilir.\n",
      "\n",
      "----------------------------------------\n",
      "Model: ytu-ce-cosmos__turkish-colbert\n",
      "\n",
      "Top-5 Cevap Adayları:\n",
      "  1. [0.8741]  Güzel yazı.\n",
      "  2. [0.8325] Model, verilen metni “Aile” konusuna ait olarak sınıflandırmalıdır.\n",
      "  3. [0.8279] 1. Coursera: IBM tarafından \"Yapay Zekaya Giriş\" 2. Udacity: \"Yapay Zekaya Giriş\" kursu 3. MIT OpenCourseware: \"Yapay Zekaya Giriş\" 4. edX: Harvard ve IBM tarafından \"Yapay Zekaya Giriş\" 5. Stanford University Online: \"Yapay Zeka ve Makine Öğrenimi\" kursu 6. Google AI: \"Makine Öğrenimi Hızlandırılmış Kursu\" 7. David Silver: \"Güçlendirmeli Öğrenim Kursu\" 8. Andrew Ng: \"Derin Öğrenme\" kursu 9. O'Reilly: \" AI Kitabı: Yapay Zeka ve Makine Öğrenimi\" 10. Andrew Ng: \"Makine Öğrenimi Özlemi\" kitabı.\n",
      "  4. [0.8198]  SEÇİN * NEREDE konu = 'bahçıvanlık' makalelerinden alaka düzeyine göre SİPARİŞ TANININ;\n",
      "  5. [0.8173]  Tavsiye edeceğim psikoloji üzerine üç kitap: 1) Daniel Kahneman'ın Hızlı ve Yavaş Düşünme; 2) Sannd'ın Sonu, Dr. Paul Dolan; ve 3) Alışkanlığın Gücü, Charles Duhigg.\n",
      "\n",
      "Top-1 Cevap: [0.8741]  Güzel yazı.\n",
      "\n",
      "----------------------------------------\n"
     ]
    }
   ],
   "source": [
    "# Örnek bir soru için indeks seçimi\n",
    "example_question_index = 0\n",
    "example_question_text = df_sample.iloc[example_question_index]['soru']\n",
    "example_correct_answer = df_sample.iloc[example_question_index]['cevap']\n",
    "\n",
    "# Her model için cevap adaylarını gösterimi\n",
    "print(f\"Örnek Soru: {example_question_text}\")\n",
    "print(f\"Gerçek Cevap: {example_correct_answer}\\n\")\n",
    "print(\"-\" * 80)\n",
    "\n",
    "for model_name in model_files:\n",
    "    print(f\"Model: {model_name}\\n\")\n",
    "\n",
    "    # Embedding'leri yükleme\n",
    "    question_embeddings, answer_embeddings = load_embeddings(model_name)\n",
    "\n",
    "    # Örnek sorunun embedding'i\n",
    "    question_embedding = question_embeddings[example_question_index].reshape(1, -1)\n",
    "\n",
    "    # Tüm cevap embedding'leri ile cosine similarity hesaplama\n",
    "    similarity_scores = cosine_similarity(question_embedding, answer_embeddings).flatten()\n",
    "\n",
    "    sorted_indices = np.argsort(similarity_scores)[::-1]\n",
    "    top5_indices = sorted_indices[:5]\n",
    "\n",
    "    print(\"Top-5 Cevap Adayları:\")\n",
    "    for rank, idx in enumerate(top5_indices, 1):\n",
    "        candidate_answer = df_sample.iloc[idx]['cevap']\n",
    "        similarity_score = similarity_scores[idx]\n",
    "        print(f\"  {rank}. [{similarity_score:.4f}] {candidate_answer}\")\n",
    "\n",
    "    top1_index = sorted_indices[0]\n",
    "    top1_candidate = df_sample.iloc[top1_index]['cevap']\n",
    "    print(f\"\\nTop-1 Cevap: [{similarity_scores[top1_index]:.4f}] {top1_candidate}\\n\")\n",
    "    print(\"-\" * 40)\n"
   ]
  },
  {
   "cell_type": "markdown",
   "id": "DtMytg6lWKhU",
   "metadata": {
    "id": "DtMytg6lWKhU"
   },
   "source": [
    "#### Calculate all cosine similarity for all embedding models"
   ]
  },
  {
   "cell_type": "code",
   "execution_count": 9,
   "id": "8yRKszOjU9-M",
   "metadata": {
    "colab": {
     "base_uri": "https://localhost:8080/"
    },
    "executionInfo": {
     "elapsed": 4829,
     "status": "ok",
     "timestamp": 1734467654093,
     "user": {
      "displayName": "Ahmed Ugur",
      "userId": "07278114889288036484"
     },
     "user_tz": -180
    },
    "id": "8yRKszOjU9-M",
    "outputId": "6460655a-d73a-4dca-c31b-e6ef5f9a236a"
   },
   "outputs": [
    {
     "name": "stdout",
     "output_type": "stream",
     "text": [
      "Cosine similarity hesaplanıyor...\n",
      "Cosine similarity hesaplandı ve pickle dosyasına kaydedildi.\n"
     ]
    }
   ],
   "source": [
    "# Tüm embeddingler için cosine similarity hesapla\n",
    "cosine_similarity_data = compute_cosine_similarity()"
   ]
  },
  {
   "cell_type": "markdown",
   "id": "fe3150ac-d569-40fe-82ff-6fb487057482",
   "metadata": {
    "id": "yhqNIr2xPPlf"
   },
   "source": [
    "### Result & Conclusion"
   ]
  },
  {
   "cell_type": "markdown",
   "id": "MaR_GK0eP9rP",
   "metadata": {
    "id": "MaR_GK0eP9rP"
   },
   "source": [
    "#### All Embedding Model: Accuracy and Error"
   ]
  },
  {
   "cell_type": "code",
   "execution_count": 10,
   "id": "vMM9wcs-BpaQ",
   "metadata": {
    "colab": {
     "base_uri": "https://localhost:8080/"
    },
    "executionInfo": {
     "elapsed": 10186,
     "status": "ok",
     "timestamp": 1734514422830,
     "user": {
      "displayName": "Ahmed Ugur",
      "userId": "07278114889288036484"
     },
     "user_tz": -180
    },
    "id": "vMM9wcs-BpaQ",
    "outputId": "af2f1b69-f18d-4340-f2b8-7f10b970d3f8"
   },
   "outputs": [
    {
     "name": "stdout",
     "output_type": "stream",
     "text": [
      "Model Name                                    Top-1 Accuracy  Top-5 Accuracy  Top-1 Errors         Top-5 Errors        \n",
      "------------------------------------------------------------------------------------------------------------------------\n",
      "sentence-transformers__all-MiniLM-L12-v2      0.2865          0.4025          1427   (71.35%)     1195   (59.75%)\n",
      "jinaai__jina-embeddings-v3                    0.8495          0.9235          301    (15.05%)     153    (7.65%)\n",
      "intfloat__multilingual-e5-large-instruct      0.6705          0.8075          659    (32.95%)     385    (19.25%)\n",
      "BAAI__bge-m3                                  0.7600          0.8575          480    (24.00%)     285    (14.25%)\n",
      "ytu-ce-cosmos__turkish-colbert                0.3470          0.5005          1306   (65.30%)     999    (49.95%)\n"
     ]
    }
   ],
   "source": [
    "# Her modelin Top-1 ve Top-5 performanslarını saklamak için\n",
    "model_results = {}\n",
    "\n",
    "print(f\"{'Model Name':<45} {'Top-1 Accuracy':<15} {'Top-5 Accuracy':<15} {'Top-1 Errors':<20} {'Top-5 Errors':<20}\")\n",
    "print(\"-\" * 120)\n",
    "\n",
    "for model_name in model_files:\n",
    "    # Embedding'leri yükleme\n",
    "    question_embeddings, answer_embeddings = load_embeddings(model_name)\n",
    "\n",
    "    # Daha önce hesaplanan cosine similarity matrisini yükle\n",
    "    similarity_matrix = cosine_similarity_data[model_name]\n",
    "\n",
    "    # Top-1, Top-5 doğruluk ve hata hesaplama\n",
    "    top1_correct, top5_correct = 0, 0\n",
    "    top1_errors, top5_errors = 0, 0\n",
    "    total_questions = len(similarity_matrix)\n",
    "\n",
    "    for idx, row in enumerate(similarity_matrix):\n",
    "        sorted_indices = np.argsort(row)[::-1]  # Büyükten küçüğe sıralama\n",
    "        correct_answer_idx = idx  # Her sorunun doğru cevabı aynı indeksde yer alıyor\n",
    "\n",
    "        # Top-1 doğruluk kontrolü (cevap ilk sırada mı?)\n",
    "        if correct_answer_idx == sorted_indices[0]:\n",
    "            top1_correct += 1\n",
    "        else:\n",
    "            top1_errors += 1  # Top-1 hatası\n",
    "\n",
    "        # Top-5 doğruluk kontrolü (cevap ilk 5'te mi?)\n",
    "        if correct_answer_idx in sorted_indices[:5]:\n",
    "            top5_correct += 1\n",
    "        else:\n",
    "            top5_errors += 1  # Top-5 hatası\n",
    "\n",
    "    top1_accuracy = top1_correct / total_questions\n",
    "    top5_accuracy = top5_correct / total_questions\n",
    "\n",
    "    top1_error_percentage = (top1_errors / total_questions) * 100\n",
    "    top5_error_percentage = (top5_errors / total_questions) * 100\n",
    "\n",
    "    model_results[model_name] = {\n",
    "        \"Top-1 Accuracy\": top1_accuracy,\n",
    "        \"Top-5 Accuracy\": top5_accuracy,\n",
    "        \"Top-1 Errors\": top1_errors,\n",
    "        \"Top-5 Errors\": top5_errors,\n",
    "        \"Top-1 Error %\": top1_error_percentage,\n",
    "        \"Top-5 Error %\": top5_error_percentage\n",
    "    }\n",
    "    # print(f\"{model_name} - Top-1 Accuracy: {top1_accuracy:.4f}, Top-5 Accuracy: {top5_accuracy:.4f}\")\n",
    "    print(f\"{model_name:<45} {top1_accuracy:<15.4f} {top5_accuracy:<15.4f} \"\n",
    "          f\"{top1_errors:<6} ({top1_error_percentage:>4.2f}%)     {top5_errors:<6} ({top5_error_percentage:>4.2f}%)\")"
   ]
  },
  {
   "cell_type": "markdown",
   "id": "pFEkHEw8QNNJ",
   "metadata": {
    "id": "pFEkHEw8QNNJ"
   },
   "source": [
    "#### Graph: Compare All Embedding Model's Accuracy"
   ]
  },
  {
   "cell_type": "code",
   "execution_count": 11,
   "id": "igOqKowvBpWi",
   "metadata": {
    "colab": {
     "base_uri": "https://localhost:8080/",
     "height": 607
    },
    "executionInfo": {
     "elapsed": 370,
     "status": "ok",
     "timestamp": 1734516561292,
     "user": {
      "displayName": "Ahmed Ugur",
      "userId": "07278114889288036484"
     },
     "user_tz": -180
    },
    "id": "igOqKowvBpWi",
    "outputId": "7cdde587-a0c0-4e9b-f242-462409cbcfce"
   },
   "outputs": [
    {
     "data": {
      "image/png": "[encoded data removed]",
      "text/plain": [
       "<Figure size 1000x600 with 1 Axes>"
      ]
     },
     "metadata": {},
     "output_type": "display_data"
    }
   ],
   "source": [
    "results_df = pd.DataFrame(model_results).T  # Transpose yaparak modelleri satır haline getir\n",
    "results_df.reset_index(inplace=True)\n",
    "results_df.rename(columns={\"index\": \"Model\"}, inplace=True)\n",
    "\n",
    "# Model isimlerini kısaltmak için\n",
    "results_df['Embedding Modelleri'] = results_df['Model'].map(model_name_mapping)\n",
    "\n",
    "ax = results_df.plot(\n",
    "    x=\"Embedding Modelleri\",\n",
    "    y=[\"Top-1 Accuracy\", \"Top-5 Accuracy\"],\n",
    "    kind=\"bar\",\n",
    "    figsize=(10, 6),\n",
    "    legend=True\n",
    ")\n",
    "\n",
    "plt.title(\"Model Performansları\")\n",
    "plt.ylabel(\"Accuracy\")\n",
    "plt.xticks(rotation=45)\n",
    "plt.yticks(np.arange(0.0, 1.1, 0.1))\n",
    "\n",
    "# Barların üzerinde değerleri ekleme\n",
    "for container in ax.containers:\n",
    "    for bar in container:\n",
    "        height = bar.get_height()\n",
    "        ax.text(\n",
    "            bar.get_x() + bar.get_width() / 2,\n",
    "            height + 0.02,\n",
    "            f\"{height:.2f}\",\n",
    "            ha='center',\n",
    "            va='bottom',\n",
    "            fontsize=9\n",
    "        )\n",
    "\n",
    "plt.tight_layout()\n",
    "plt.show()"
   ]
  },
  {
   "cell_type": "markdown",
   "id": "E-9XjpiGQXtj",
   "metadata": {
    "id": "E-9XjpiGQXtj"
   },
   "source": [
    "#### All Ensemble Methods Accuracy"
   ]
  },
  {
   "cell_type": "markdown",
   "id": "599c416b",
   "metadata": {},
   "source": [
    "### 1. Majority Voting\n",
    "\n",
    "Her bir örnek soru için tekil modelin Top-1 ve Top-5 cevap adayı listelerine bakılır, her bir listedeki aday diğer modellerin de listelerinde yer alıyorsa oyu 1 artırılır. En yüksek oya sahip cevap adayı ensemble sonucu olarak belirlenir.\n",
    "\n",
    "$$\n",
    "\\begin{equation}\n",
    "\\tag{1}\n",
    "\\quad \\hat{y}_= \\text{argmax}_i \\Big( \\sum_{j=1}^M \\mathbb{1}[i \\in \\text{Top-X}_j] \\Big) \\\\\n",
    "\\end{equation}\n",
    "$$\n",
    "\n",
    "$ \\mathbb{1}[i \\in \\text{Top-5}_j] $ : i'inci cevabın j'inci modelin Top-X tahmininde olup olmadığını kontrol eden gösterge fonksiyonu ifade eder. 1 ise var, 0 ise yoktur.\n",
    "\n",
    "---\n",
    "\n",
    "### 2. Average Cosine Similarity\n",
    "\n",
    "Her bir tekil modelin her bir cevaba ilişkin hesapladığı cosinüs benzerliklerinin ortalaması alınır. En yüksek ortalamaya ait ilk cevap Top-1, ilk 5 cevap ise Top-5 ensemble sonucu olarak belirlenir. \n",
    "\n",
    "$$\n",
    "\\begin{equation}\n",
    "\\tag{2}\n",
    "\\quad \\hat{y} = \\text{argmax}_i \\Big( \\frac{1}{M} \\sum_{j=1}^M S_{ij} \\Big) \\\\\n",
    "\\end{equation}\n",
    "$$\n",
    "\n",
    "$ S_{ij} $ : \"j-inci model tarafından i-inci cevap için hesaplanan cosine similarity skorudur.\n",
    "\n",
    "---\n",
    "\n",
    "### 3. Weighted Cosine Similarity\n",
    "\n",
    "Her bir tekil modelin Top-1 doğruluk oranları normalize edilerek toplam 5 farklı modele ait elde edilen değerler toplamı 1 olacak şekilde $ w{_j} $ olarak ağırlıklandırılmıştır. Model kararlarını birleştirirken tekil başarısı daha yüksek olan modelin ağırlığı daha yüksek olduğu için karara olan etkisi daha fazla olacaktır.\n",
    "\n",
    "Tüm modellerin cosinüs benzerlikleri kendi ağırlıkları ile çarpıldığında en yüksek skora sahip ilk cevap Top-1, ilk 5 cevap ise Top-5 ensemble sonucu olarak belirlenir. \n",
    "\n",
    "$$\n",
    "\\begin{equation}\n",
    "\\tag{3}\n",
    "\\quad \\hat{y} = \\text{argmax}_i \\Big( \\sum_{j=1}^M w_j \\cdot S_{ij} \\Big) \\\\\n",
    "\\end{equation}\n",
    "$$\n",
    "\n",
    "$ w{_j} $ : j-inci modelin ağırlığını ifade etmektedir. (j-inci modelin tekil Top-1 doğruluğunun normalize edilmiş hali)\n",
    "\n",
    "$ S_{ij} $ : j-inci model tarafından i-inci cevap için hesaplanan cosine similarity skorudur."
   ]
  },
  {
   "cell_type": "code",
   "execution_count": 12,
   "id": "ec4046c5",
   "metadata": {
    "colab": {
     "base_uri": "https://localhost:8080/"
    },
    "executionInfo": {
     "elapsed": 2649,
     "status": "ok",
     "timestamp": 1734515746165,
     "user": {
      "displayName": "Ahmed Ugur",
      "userId": "07278114889288036484"
     },
     "user_tz": -180
    },
    "id": "ec4046c5",
    "outputId": "93c01b32-83c4-45b4-d862-768e2542bdbf"
   },
   "outputs": [
    {
     "name": "stdout",
     "output_type": "stream",
     "text": [
      "Ensemble Performans Sonuçları\n",
      "\n",
      "Ensemble Method Name           Top-1 Accuracy  Top-5 Accuracy \n",
      "------------------------------------------------------------\n",
      "Majority Voting                0.7340          0.9355         \n",
      "Average Cosine                 0.7830          0.8740         \n",
      "Weighted Average               0.8260          0.9075         \n"
     ]
    }
   ],
   "source": [
    "from collections import Counter\n",
    "\n",
    "# Ensemble sonuçlarını saklamak için\n",
    "ensemble_results = {\n",
    "    \"Majority Voting\": {\"Top-1\": 0, \"Top-5\": 0},\n",
    "    \"Average Cosine\": {\"Top-1\": 0, \"Top-5\": 0},\n",
    "    \"Weighted Average\": {\"Top-1\": 0, \"Top-5\": 0}\n",
    "}\n",
    "\n",
    "# Model ağırlıklarını tekil performanslardan (Top-1 Accuracy) hesaplama: 3.ensemble yöntemi için\n",
    "top1_accuracies = {model: result[\"Top-1 Accuracy\"] for model, result in model_results.items()}\n",
    "# Ağırlıkları normalleştiriyoruz (Toplam ağırlık = 1 olacak şekilde)\n",
    "total_accuracy = sum(top1_accuracies.values())\n",
    "model_weights = {model: accuracy / total_accuracy for model, accuracy in top1_accuracies.items()}\n",
    "\n",
    "# Ensemble hesaplama\n",
    "for idx in range(len(df_sample)):\n",
    "    # Her modelin benzerlik skorlarını ve sıralamalarını sakla\n",
    "    all_similarities = []\n",
    "    all_top5_candidates = []\n",
    "\n",
    "    for model_name, similarity_matrix in cosine_similarity_data.items():\n",
    "        row = similarity_matrix[idx]  # İlgili sorunun tüm cevaplarla benzerlik skorları\n",
    "        sorted_indices = np.argsort(row)[::-1]\n",
    "\n",
    "        # Top-5 adayları ve skorları\n",
    "        all_top5_candidates.append(sorted_indices[:5])\n",
    "        all_similarities.append(row)\n",
    "\n",
    "    # Gerçek cevap indeksi\n",
    "    correct_answer_idx = idx\n",
    "\n",
    "    # Ensemble 1: Majority Voting\n",
    "\n",
    "    flattened_top5 = [idx for sublist in all_top5_candidates for idx in sublist]\n",
    "    most_common = Counter(flattened_top5).most_common(1)[0][0]  # En sık geçen cevap\n",
    "    if most_common == correct_answer_idx:\n",
    "        ensemble_results[\"Majority Voting\"][\"Top-1\"] += 1\n",
    "    if correct_answer_idx in Counter(flattened_top5).keys():\n",
    "        ensemble_results[\"Majority Voting\"][\"Top-5\"] += 1\n",
    "\n",
    "    # Ensemble 2: Average Cosine Similarity\n",
    "    avg_scores = np.mean(all_similarities, axis=0)\n",
    "    avg_sorted_indices = np.argsort(avg_scores)[::-1]\n",
    "    if avg_sorted_indices[0] == correct_answer_idx:\n",
    "        ensemble_results[\"Average Cosine\"][\"Top-1\"] += 1\n",
    "    if correct_answer_idx in avg_sorted_indices[:5]:\n",
    "        ensemble_results[\"Average Cosine\"][\"Top-5\"] += 1\n",
    "\n",
    "    # Ensemble 3: Weighted Cosine Similarity\n",
    "    weighted_scores = sum(\n",
    "        model_weights[model_files[i]] * all_similarities[i] for i in range(len(model_files))\n",
    "    )\n",
    "    weighted_sorted_indices = np.argsort(weighted_scores)[::-1]\n",
    "    if weighted_sorted_indices[0] == correct_answer_idx:\n",
    "        ensemble_results[\"Weighted Average\"][\"Top-1\"] += 1\n",
    "    if correct_answer_idx in weighted_sorted_indices[:5]:\n",
    "        ensemble_results[\"Weighted Average\"][\"Top-5\"] += 1\n",
    "\n",
    "# Ensemble doğruluk oranlarını hesapla\n",
    "for method, results in ensemble_results.items():\n",
    "    results[\"Top-1 Accuracy\"] = results[\"Top-1\"] / len(df_sample)\n",
    "    results[\"Top-5 Accuracy\"] = results[\"Top-5\"] / len(df_sample)\n",
    "\n",
    "print(\"Ensemble Performans Sonuçları\\n\")\n",
    "print(f\"{'Ensemble Method Name':<30} {'Top-1 Accuracy':<15} {'Top-5 Accuracy':<15}\")\n",
    "print(\"-\" * 60)\n",
    "for method, results in ensemble_results.items():\n",
    "    print(f\"{method:<30} {results['Top-1 Accuracy']:<15.4f} {results['Top-5 Accuracy']:<15.4f}\")"
   ]
  },
  {
   "cell_type": "markdown",
   "id": "Np1dQ4qCQmmr",
   "metadata": {
    "id": "Np1dQ4qCQmmr"
   },
   "source": [
    "#### Select a sample index for question. Explain to calculate top-1 and top-5 performance with 3 different ensemble methods"
   ]
  },
  {
   "cell_type": "code",
   "execution_count": 13,
   "id": "c6b1ae90",
   "metadata": {
    "colab": {
     "base_uri": "https://localhost:8080/"
    },
    "executionInfo": {
     "elapsed": 345,
     "status": "ok",
     "timestamp": 1734515761647,
     "user": {
      "displayName": "Ahmed Ugur",
      "userId": "07278114889288036484"
     },
     "user_tz": -180
    },
    "id": "c6b1ae90",
    "outputId": "7a0d80ac-0ca0-495d-f92a-662ddc083087"
   },
   "outputs": [
    {
     "name": "stdout",
     "output_type": "stream",
     "text": [
      "Örnek Soru:  Belirli bir konu hakkında bir makale yazın. Konu: Zaman Yönetimi\n",
      "Gerçek Cevap: Zaman yönetimi, hayatta başarılı olmak için sahip olunması gereken önemli bir beceridir. Gününüzden en iyi şekilde yararlanabilmeniz için görevlere öncelik vermenizi ve zamanınızı en iyi şekilde değerlendirmenizi sağlar. Etkili zaman yönetimine sahip olmak aynı zamanda odaklanmanıza ve doğru yolda kalmanıza yardımcı olur ve ertelemeyi önler. Zamanınızı etkili bir şekilde yönetmenin bir yolu, bir program oluşturmak ve ona bağlı kalmaktır. Günün belirli saatlerini belirli etkinliklere ayırmanız ve bu saatlere saygı duymanız önemlidir. Örneğin spor yapmak istiyorsanız her gün aynı saatte bir saat ayırın ve o randevuya mutlaka uyun. Görevleriniz için ulaşılabilir hedefler ve zaman çizelgesi belirlediğinizden de emin olmalısınız. Bunu yaparak, daha büyük görevleri yönetilebilir parçalara ayırabilir ve odaklanmanızı ve motive olmanızı sağlayacak somut hedeflere ve teslim tarihlerine sahip olabilirsiniz. Zaman yönetimini iyileştirmenin bir başka yolu da düzenli kalmak ve bir \"yapılacaklar\" listesi oluşturmaktır. Yapılacaklar listesi, önemli görevleri takip etmenize ve en önemlilerine öncelik vermenize yardımcı olacaktır. Ayrıca, görevleri unutma olasılığını azaltır ve tamamlamanız gereken görevleri hatırlatır. Son olarak, dikkat dağıtıcı unsurları yönetmek, etkili zaman yönetimi için çok önemlidir. Verimli kalmak için, gecikmelere neden olabileceğinden ve üretkenliği engelleyebileceğinden, dikkat dağıtıcı unsurları sınırlamak önemlidir. Düzenli kalmak ve mola vermek bunu önlemeye yardımcı olabilir. Genel olarak, zaman yönetimi hayatta başarılı olmak için sahip olunması gereken çok önemli bir beceridir. Programlar oluşturarak, ulaşılabilir hedefler belirleyerek, düzenli kalarak ve dikkat dağıtıcı unsurları sınırlayarak, kişi zamanını etkili bir şekilde yönetebilir ve daha fazlasını başarabilir.\n",
      "\n",
      "Ensemble Yöntemlerinin Top-1 Cevapları:\n",
      "\n",
      "Majority Voting Cevabı:\n",
      "  [Frekans: 3] Zaman yönetimi, hayatta başarılı olmak için sahip olunması gereken önemli bir beceridir. Gününüzden en iyi şekilde yararlanabilmeniz için görevlere öncelik vermenizi ve zamanınızı en iyi şekilde değerlendirmenizi sağlar. Etkili zaman yönetimine sahip olmak aynı zamanda odaklanmanıza ve doğru yolda kalmanıza yardımcı olur ve ertelemeyi önler. Zamanınızı etkili bir şekilde yönetmenin bir yolu, bir program oluşturmak ve ona bağlı kalmaktır. Günün belirli saatlerini belirli etkinliklere ayırmanız ve bu saatlere saygı duymanız önemlidir. Örneğin spor yapmak istiyorsanız her gün aynı saatte bir saat ayırın ve o randevuya mutlaka uyun. Görevleriniz için ulaşılabilir hedefler ve zaman çizelgesi belirlediğinizden de emin olmalısınız. Bunu yaparak, daha büyük görevleri yönetilebilir parçalara ayırabilir ve odaklanmanızı ve motive olmanızı sağlayacak somut hedeflere ve teslim tarihlerine sahip olabilirsiniz. Zaman yönetimini iyileştirmenin bir başka yolu da düzenli kalmak ve bir \"yapılacaklar\" listesi oluşturmaktır. Yapılacaklar listesi, önemli görevleri takip etmenize ve en önemlilerine öncelik vermenize yardımcı olacaktır. Ayrıca, görevleri unutma olasılığını azaltır ve tamamlamanız gereken görevleri hatırlatır. Son olarak, dikkat dağıtıcı unsurları yönetmek, etkili zaman yönetimi için çok önemlidir. Verimli kalmak için, gecikmelere neden olabileceğinden ve üretkenliği engelleyebileceğinden, dikkat dağıtıcı unsurları sınırlamak önemlidir. Düzenli kalmak ve mola vermek bunu önlemeye yardımcı olabilir. Genel olarak, zaman yönetimi hayatta başarılı olmak için sahip olunması gereken çok önemli bir beceridir. Programlar oluşturarak, ulaşılabilir hedefler belirleyerek, düzenli kalarak ve dikkat dağıtıcı unsurları sınırlayarak, kişi zamanını etkili bir şekilde yönetebilir ve daha fazlasını başarabilir.\n",
      "\n",
      "Average Cosine Similarity Cevabı:\n",
      "  [Benzerlik (Avg): 0.7004] Zaman yönetimi, hayatta başarılı olmak için sahip olunması gereken önemli bir beceridir. Gününüzden en iyi şekilde yararlanabilmeniz için görevlere öncelik vermenizi ve zamanınızı en iyi şekilde değerlendirmenizi sağlar. Etkili zaman yönetimine sahip olmak aynı zamanda odaklanmanıza ve doğru yolda kalmanıza yardımcı olur ve ertelemeyi önler. Zamanınızı etkili bir şekilde yönetmenin bir yolu, bir program oluşturmak ve ona bağlı kalmaktır. Günün belirli saatlerini belirli etkinliklere ayırmanız ve bu saatlere saygı duymanız önemlidir. Örneğin spor yapmak istiyorsanız her gün aynı saatte bir saat ayırın ve o randevuya mutlaka uyun. Görevleriniz için ulaşılabilir hedefler ve zaman çizelgesi belirlediğinizden de emin olmalısınız. Bunu yaparak, daha büyük görevleri yönetilebilir parçalara ayırabilir ve odaklanmanızı ve motive olmanızı sağlayacak somut hedeflere ve teslim tarihlerine sahip olabilirsiniz. Zaman yönetimini iyileştirmenin bir başka yolu da düzenli kalmak ve bir \"yapılacaklar\" listesi oluşturmaktır. Yapılacaklar listesi, önemli görevleri takip etmenize ve en önemlilerine öncelik vermenize yardımcı olacaktır. Ayrıca, görevleri unutma olasılığını azaltır ve tamamlamanız gereken görevleri hatırlatır. Son olarak, dikkat dağıtıcı unsurları yönetmek, etkili zaman yönetimi için çok önemlidir. Verimli kalmak için, gecikmelere neden olabileceğinden ve üretkenliği engelleyebileceğinden, dikkat dağıtıcı unsurları sınırlamak önemlidir. Düzenli kalmak ve mola vermek bunu önlemeye yardımcı olabilir. Genel olarak, zaman yönetimi hayatta başarılı olmak için sahip olunması gereken çok önemli bir beceridir. Programlar oluşturarak, ulaşılabilir hedefler belirleyerek, düzenli kalarak ve dikkat dağıtıcı unsurları sınırlayarak, kişi zamanını etkili bir şekilde yönetebilir ve daha fazlasını başarabilir.\n",
      "\n",
      "Weighted Average Cevabı:\n",
      "  [Benzerlik (Weighted): 0.7250] Zaman yönetimi, hayatta başarılı olmak için sahip olunması gereken önemli bir beceridir. Gününüzden en iyi şekilde yararlanabilmeniz için görevlere öncelik vermenizi ve zamanınızı en iyi şekilde değerlendirmenizi sağlar. Etkili zaman yönetimine sahip olmak aynı zamanda odaklanmanıza ve doğru yolda kalmanıza yardımcı olur ve ertelemeyi önler. Zamanınızı etkili bir şekilde yönetmenin bir yolu, bir program oluşturmak ve ona bağlı kalmaktır. Günün belirli saatlerini belirli etkinliklere ayırmanız ve bu saatlere saygı duymanız önemlidir. Örneğin spor yapmak istiyorsanız her gün aynı saatte bir saat ayırın ve o randevuya mutlaka uyun. Görevleriniz için ulaşılabilir hedefler ve zaman çizelgesi belirlediğinizden de emin olmalısınız. Bunu yaparak, daha büyük görevleri yönetilebilir parçalara ayırabilir ve odaklanmanızı ve motive olmanızı sağlayacak somut hedeflere ve teslim tarihlerine sahip olabilirsiniz. Zaman yönetimini iyileştirmenin bir başka yolu da düzenli kalmak ve bir \"yapılacaklar\" listesi oluşturmaktır. Yapılacaklar listesi, önemli görevleri takip etmenize ve en önemlilerine öncelik vermenize yardımcı olacaktır. Ayrıca, görevleri unutma olasılığını azaltır ve tamamlamanız gereken görevleri hatırlatır. Son olarak, dikkat dağıtıcı unsurları yönetmek, etkili zaman yönetimi için çok önemlidir. Verimli kalmak için, gecikmelere neden olabileceğinden ve üretkenliği engelleyebileceğinden, dikkat dağıtıcı unsurları sınırlamak önemlidir. Düzenli kalmak ve mola vermek bunu önlemeye yardımcı olabilir. Genel olarak, zaman yönetimi hayatta başarılı olmak için sahip olunması gereken çok önemli bir beceridir. Programlar oluşturarak, ulaşılabilir hedefler belirleyerek, düzenli kalarak ve dikkat dağıtıcı unsurları sınırlayarak, kişi zamanını etkili bir şekilde yönetebilir ve daha fazlasını başarabilir.\n",
      "\n",
      "Ensemble Yöntemlerinin Top-5 Cevapları ve Skorları:\n",
      "\n",
      "Majority Voting Top-5 Cevaplar:\n",
      "  1. [Frekans: 3] Zaman yönetimi, hayatta başarılı olmak için sahip olunması gereken önemli bir beceridir. Gününüzden en iyi şekilde yararlanabilmeniz için görevlere öncelik vermenizi ve zamanınızı en iyi şekilde değerlendirmenizi sağlar. Etkili zaman yönetimine sahip olmak aynı zamanda odaklanmanıza ve doğru yolda kalmanıza yardımcı olur ve ertelemeyi önler. Zamanınızı etkili bir şekilde yönetmenin bir yolu, bir program oluşturmak ve ona bağlı kalmaktır. Günün belirli saatlerini belirli etkinliklere ayırmanız ve bu saatlere saygı duymanız önemlidir. Örneğin spor yapmak istiyorsanız her gün aynı saatte bir saat ayırın ve o randevuya mutlaka uyun. Görevleriniz için ulaşılabilir hedefler ve zaman çizelgesi belirlediğinizden de emin olmalısınız. Bunu yaparak, daha büyük görevleri yönetilebilir parçalara ayırabilir ve odaklanmanızı ve motive olmanızı sağlayacak somut hedeflere ve teslim tarihlerine sahip olabilirsiniz. Zaman yönetimini iyileştirmenin bir başka yolu da düzenli kalmak ve bir \"yapılacaklar\" listesi oluşturmaktır. Yapılacaklar listesi, önemli görevleri takip etmenize ve en önemlilerine öncelik vermenize yardımcı olacaktır. Ayrıca, görevleri unutma olasılığını azaltır ve tamamlamanız gereken görevleri hatırlatır. Son olarak, dikkat dağıtıcı unsurları yönetmek, etkili zaman yönetimi için çok önemlidir. Verimli kalmak için, gecikmelere neden olabileceğinden ve üretkenliği engelleyebileceğinden, dikkat dağıtıcı unsurları sınırlamak önemlidir. Düzenli kalmak ve mola vermek bunu önlemeye yardımcı olabilir. Genel olarak, zaman yönetimi hayatta başarılı olmak için sahip olunması gereken çok önemli bir beceridir. Programlar oluşturarak, ulaşılabilir hedefler belirleyerek, düzenli kalarak ve dikkat dağıtıcı unsurları sınırlayarak, kişi zamanını etkili bir şekilde yönetebilir ve daha fazlasını başarabilir.\n",
      "  2. [Frekans: 2] Kısıtlı sürede bir projeyi tamamlama sorununu çözmek için düşünülebilecek üç çözüm vardır. İlk çözüm, zamanı dikkatli bir şekilde planlamak ve önceliklendirmek. Projeyi önceden planlayarak ve hangi görevlerin en büyük önceliğe sahip olduğunu ve önce tamamlanması gerektiğini anlayarak, proje daha verimli ve hızlı bir şekilde tamamlanabilir. Bu, önemsiz veya alakasız görevlerde zamanın boşa harcanmamasını sağlamaya yardımcı olacaktır. İkinci çözüm, görevleri devretmek. Projenin türüne ve mevcut ekip üyelerinin sayısına bağlı olarak, projeyi tamamlamak için gereken bazı görevleri devretmek mümkün olabilir. Bu, tüm ekibin becerilerini kullanırken herhangi bir kişinin üzerindeki yükü azaltacaktır. Üçüncü çözüm, görevlerin nasıl tamamlanacağı konusunda daha verimli ve yaratıcı olmaktır. Örneğin, görevleri hızlı bir şekilde tamamlamak için teknolojiden yararlanmanın kısayollarını veya yeni yollarını aramak veya alışılmışın dışında düşünmek ve sorunlara yaratıcı çözümler bulmak. Yaratıcı olmak ve projeye yaklaşmanın yeni yollarını aramak, projeyi son teslim tarihinden önce bitirmeye yardımcı olabilir.\n",
      "  3. [Frekans: 2] Model, verilen metni “Aile” konusuna ait olarak sınıflandırmalıdır.\n",
      "  4. [Frekans: 1]  Makaleleri bulmak ve yönetmek için kullanılan bir kütüphane yazılımı EndNote'tur.\n",
      "  5. [Frekans: 1]  Öğretmen köpek hakkında bir makale yazdı.\n",
      "\n",
      "Average Cosine Top-5 Cevaplar:\n",
      "  1. [Benzerlik (Avg): 0.7004] Zaman yönetimi, hayatta başarılı olmak için sahip olunması gereken önemli bir beceridir. Gününüzden en iyi şekilde yararlanabilmeniz için görevlere öncelik vermenizi ve zamanınızı en iyi şekilde değerlendirmenizi sağlar. Etkili zaman yönetimine sahip olmak aynı zamanda odaklanmanıza ve doğru yolda kalmanıza yardımcı olur ve ertelemeyi önler. Zamanınızı etkili bir şekilde yönetmenin bir yolu, bir program oluşturmak ve ona bağlı kalmaktır. Günün belirli saatlerini belirli etkinliklere ayırmanız ve bu saatlere saygı duymanız önemlidir. Örneğin spor yapmak istiyorsanız her gün aynı saatte bir saat ayırın ve o randevuya mutlaka uyun. Görevleriniz için ulaşılabilir hedefler ve zaman çizelgesi belirlediğinizden de emin olmalısınız. Bunu yaparak, daha büyük görevleri yönetilebilir parçalara ayırabilir ve odaklanmanızı ve motive olmanızı sağlayacak somut hedeflere ve teslim tarihlerine sahip olabilirsiniz. Zaman yönetimini iyileştirmenin bir başka yolu da düzenli kalmak ve bir \"yapılacaklar\" listesi oluşturmaktır. Yapılacaklar listesi, önemli görevleri takip etmenize ve en önemlilerine öncelik vermenize yardımcı olacaktır. Ayrıca, görevleri unutma olasılığını azaltır ve tamamlamanız gereken görevleri hatırlatır. Son olarak, dikkat dağıtıcı unsurları yönetmek, etkili zaman yönetimi için çok önemlidir. Verimli kalmak için, gecikmelere neden olabileceğinden ve üretkenliği engelleyebileceğinden, dikkat dağıtıcı unsurları sınırlamak önemlidir. Düzenli kalmak ve mola vermek bunu önlemeye yardımcı olabilir. Genel olarak, zaman yönetimi hayatta başarılı olmak için sahip olunması gereken çok önemli bir beceridir. Programlar oluşturarak, ulaşılabilir hedefler belirleyerek, düzenli kalarak ve dikkat dağıtıcı unsurları sınırlayarak, kişi zamanını etkili bir şekilde yönetebilir ve daha fazlasını başarabilir.\n",
      "  2. [Benzerlik (Avg): 0.6382]  Zamanda Yolculuk: Bir Muhasebecinin İnanılmaz Macerası.\n",
      "  3. [Benzerlik (Avg): 0.6235]  Kişisel Yazı.\n",
      "  4. [Benzerlik (Avg): 0.6208]  Öğretmen köpek hakkında bir makale yazdı.\n",
      "  5. [Benzerlik (Avg): 0.6152]  Makaleleri bulmak ve yönetmek için kullanılan bir kütüphane yazılımı EndNote'tur.\n",
      "\n",
      "Weighted Average Top-5 Cevaplar:\n",
      "  1. [Benzerlik (Weighted): 0.7250] Zaman yönetimi, hayatta başarılı olmak için sahip olunması gereken önemli bir beceridir. Gününüzden en iyi şekilde yararlanabilmeniz için görevlere öncelik vermenizi ve zamanınızı en iyi şekilde değerlendirmenizi sağlar. Etkili zaman yönetimine sahip olmak aynı zamanda odaklanmanıza ve doğru yolda kalmanıza yardımcı olur ve ertelemeyi önler. Zamanınızı etkili bir şekilde yönetmenin bir yolu, bir program oluşturmak ve ona bağlı kalmaktır. Günün belirli saatlerini belirli etkinliklere ayırmanız ve bu saatlere saygı duymanız önemlidir. Örneğin spor yapmak istiyorsanız her gün aynı saatte bir saat ayırın ve o randevuya mutlaka uyun. Görevleriniz için ulaşılabilir hedefler ve zaman çizelgesi belirlediğinizden de emin olmalısınız. Bunu yaparak, daha büyük görevleri yönetilebilir parçalara ayırabilir ve odaklanmanızı ve motive olmanızı sağlayacak somut hedeflere ve teslim tarihlerine sahip olabilirsiniz. Zaman yönetimini iyileştirmenin bir başka yolu da düzenli kalmak ve bir \"yapılacaklar\" listesi oluşturmaktır. Yapılacaklar listesi, önemli görevleri takip etmenize ve en önemlilerine öncelik vermenize yardımcı olacaktır. Ayrıca, görevleri unutma olasılığını azaltır ve tamamlamanız gereken görevleri hatırlatır. Son olarak, dikkat dağıtıcı unsurları yönetmek, etkili zaman yönetimi için çok önemlidir. Verimli kalmak için, gecikmelere neden olabileceğinden ve üretkenliği engelleyebileceğinden, dikkat dağıtıcı unsurları sınırlamak önemlidir. Düzenli kalmak ve mola vermek bunu önlemeye yardımcı olabilir. Genel olarak, zaman yönetimi hayatta başarılı olmak için sahip olunması gereken çok önemli bir beceridir. Programlar oluşturarak, ulaşılabilir hedefler belirleyerek, düzenli kalarak ve dikkat dağıtıcı unsurları sınırlayarak, kişi zamanını etkili bir şekilde yönetebilir ve daha fazlasını başarabilir.\n",
      "  2. [Benzerlik (Weighted): 0.6009]  Zamanda Yolculuk: Bir Muhasebecinin İnanılmaz Macerası.\n",
      "  3. [Benzerlik (Weighted): 0.5891]  Kişisel Yazı.\n",
      "  4. [Benzerlik (Weighted): 0.5876]  Zamanlar zor olabilir, ancak iyi seçilmiş teknikler yardımcı olur.\n",
      "  5. [Benzerlik (Weighted): 0.5734]  Daha azıyla daha fazlasını elde edin, verimlilik için çabalayın.\n"
     ]
    }
   ],
   "source": [
    "# Örnek soru indeksi\n",
    "example_question_index = 0  # İlk soru (istediğiniz indeksi burada değiştirebilirsiniz)\n",
    "\n",
    "# Gerçek soruyu ve cevabı kontrol et\n",
    "example_question = df_sample.iloc[example_question_index]['soru']\n",
    "correct_answer = df_sample.iloc[example_question_index]['cevap']\n",
    "\n",
    "print(f\"Örnek Soru: {example_question}\")\n",
    "print(f\"Gerçek Cevap: {correct_answer}\\n\")\n",
    "\n",
    "# Her modelin Top-5 adaylarını ve cosine similarity skorlarını sakla\n",
    "all_similarities = []\n",
    "all_top5_candidates = []\n",
    "\n",
    "for model_name in model_files:\n",
    "  similarity_matrix = cosine_similarity_data[model_name]\n",
    "  row = similarity_matrix[example_question_index]  # Örnek sorunun tüm cevaplarla benzerlik skorları\n",
    "  sorted_indices = np.argsort(row)[::-1]  # Skorları büyükten küçüğe sırala\n",
    "\n",
    "  # Top-5 adayları ve skorları\n",
    "  all_top5_candidates.append(sorted_indices[:5])\n",
    "  all_similarities.append(row)\n",
    "\n",
    "# Ensemble 1: Majority Voting (Top-1 ve Top-5)\n",
    "flattened_top5 = [idx for sublist in all_top5_candidates for idx in sublist]\n",
    "most_common = Counter(flattened_top5).most_common(1)[0][0]  # En sık geçen cevap\n",
    "ensemble_majority_voting = df_sample.iloc[most_common]['cevap']\n",
    "majority_top5 = [item[0] for item in Counter(flattened_top5).most_common(5)]\n",
    "\n",
    "# Ensemble 2: Average Cosine Similarity (Top-1 ve Top-5)\n",
    "avg_scores = np.mean(all_similarities, axis=0)\n",
    "avg_sorted_indices = np.argsort(avg_scores)[::-1]\n",
    "ensemble_avg_cosine = df_sample.iloc[avg_sorted_indices[0]]['cevap']\n",
    "average_top5 = avg_sorted_indices[:5]\n",
    "\n",
    "# Ensemble 3: Weighted Average (Top-1 ve Top-5)\n",
    "weighted_scores = sum(\n",
    "    model_weights[model_name] * all_similarities[i] for i, model_name in enumerate(model_files)\n",
    ")\n",
    "weighted_sorted_indices = np.argsort(weighted_scores)[::-1]\n",
    "ensemble_weighted_avg = df_sample.iloc[weighted_sorted_indices[0]]['cevap']\n",
    "weighted_top5 = weighted_sorted_indices[:5]\n",
    "\n",
    "# Sonuçları yazdır\n",
    "print(\"Ensemble Yöntemlerinin Top-1 Cevapları:\")\n",
    "print(\"\\nMajority Voting Cevabı:\")\n",
    "print(f\"  [Frekans: {Counter(flattened_top5)[most_common]}] {ensemble_majority_voting}\")\n",
    "\n",
    "print(\"\\nAverage Cosine Similarity Cevabı:\")\n",
    "print(f\"  [Benzerlik (Avg): {avg_scores[avg_sorted_indices[0]]:.4f}] {ensemble_avg_cosine}\")\n",
    "\n",
    "print(\"\\nWeighted Average Cevabı:\")\n",
    "print(f\"  [Benzerlik (Weighted): {weighted_scores[weighted_sorted_indices[0]]:.4f}] {ensemble_weighted_avg}\\n\")\n",
    "\n",
    "print(\"Ensemble Yöntemlerinin Top-5 Cevapları ve Skorları:\")\n",
    "\n",
    "# Majority Voting\n",
    "print(\"\\nMajority Voting Top-5 Cevaplar:\")\n",
    "for rank, idx in enumerate(majority_top5, 1):\n",
    "    print(f\"  {rank}. [Frekans: {Counter(flattened_top5)[idx]}] {df_sample.iloc[idx]['cevap']}\")\n",
    "\n",
    "# Average Cosine Similarity\n",
    "print(\"\\nAverage Cosine Top-5 Cevaplar:\")\n",
    "for rank, idx in enumerate(average_top5, 1):\n",
    "    print(f\"  {rank}. [Benzerlik (Avg): {avg_scores[idx]:.4f}] {df_sample.iloc[idx]['cevap']}\")\n",
    "\n",
    "# Weighted Average\n",
    "print(\"\\nWeighted Average Top-5 Cevaplar:\")\n",
    "for rank, idx in enumerate(weighted_top5, 1):\n",
    "    print(f\"  {rank}. [Benzerlik (Weighted): {weighted_scores[idx]:.4f}] {df_sample.iloc[idx]['cevap']}\")"
   ]
  },
  {
   "cell_type": "markdown",
   "id": "mYKzxsRTQzg7",
   "metadata": {
    "id": "mYKzxsRTQzg7"
   },
   "source": [
    "#### Graph: Compare All Embedding Models vs. Ensemble Models Accuracy"
   ]
  },
  {
   "cell_type": "code",
   "execution_count": 14,
   "id": "Na1SBhzBuZDz",
   "metadata": {
    "colab": {
     "base_uri": "https://localhost:8080/",
     "height": 707
    },
    "executionInfo": {
     "elapsed": 480,
     "status": "ok",
     "timestamp": 1734516430521,
     "user": {
      "displayName": "Ahmed Ugur",
      "userId": "07278114889288036484"
     },
     "user_tz": -180
    },
    "id": "Na1SBhzBuZDz",
    "outputId": "7ad0d27c-0dbf-4a23-a371-c2e83db00103"
   },
   "outputs": [
    {
     "data": {
      "image/png": "[encoded data removed]",
      "text/plain": [
       "<Figure size 1200x700 with 1 Axes>"
      ]
     },
     "metadata": {},
     "output_type": "display_data"
    }
   ],
   "source": [
    "from matplotlib.patches import Patch\n",
    "\n",
    "# Tekil modellerin başarıları\n",
    "model_names = [model_name_mapping[model] for model in model_files]\n",
    "top1_accuracies = [model_results[model][\"Top-1 Accuracy\"] for model in model_files]\n",
    "top5_accuracies = [model_results[model][\"Top-5 Accuracy\"] for model in model_files]\n",
    "\n",
    "# Ensemble yöntemlerinin başarıları\n",
    "ensemble_methods = list(ensemble_results.keys())\n",
    "ensemble_top1 = [ensemble_results[method][\"Top-1 Accuracy\"] for method in ensemble_methods]\n",
    "ensemble_top5 = [ensemble_results[method][\"Top-5 Accuracy\"] for method in ensemble_methods]\n",
    "\n",
    "# Verileri birleştirme işlemi\n",
    "x_labels = model_names + ensemble_methods\n",
    "top1_combined = top1_accuracies + ensemble_top1\n",
    "top5_combined = top5_accuracies + ensemble_top5\n",
    "\n",
    "x = np.arange(len(x_labels))\n",
    "\n",
    "bar_width = 0.4\n",
    "\n",
    "colors_top1 = ['lightblue'] * len(model_names) + ['orange'] * len(ensemble_methods)\n",
    "colors_top5 = ['steelblue'] * len(model_names) + ['red'] * len(ensemble_methods)\n",
    "\n",
    "plt.figure(figsize=(12, 7))\n",
    "\n",
    "bars1 = plt.bar(x - bar_width / 2, top1_combined, bar_width, label=\"Top-1 Accuracy\", color=colors_top1)\n",
    "\n",
    "bars2 = plt.bar(x + bar_width / 2, top5_combined, bar_width, label=\"Top-5 Accuracy\", color=colors_top5)\n",
    "\n",
    "# Barların üzerinde değerlerin gösterimi\n",
    "for bar in bars1:\n",
    "    plt.text(bar.get_x() + bar.get_width() / 2, bar.get_height() + 0.02, f\"{bar.get_height():.2f}\", ha='center', fontsize=9)\n",
    "for bar in bars2:\n",
    "    plt.text(bar.get_x() + bar.get_width() / 2, bar.get_height() + 0.02, f\"{bar.get_height():.2f}\", ha='center', fontsize=9)\n",
    "\n",
    "plt.xticks(x, x_labels, rotation=45, ha=\"right\")\n",
    "plt.yticks(np.arange(0.0, 1.1, 0.1))\n",
    "plt.ylabel(\"Accuracy\")\n",
    "plt.title(\"Tekil Öğreniciler ile Ensemble Performansları Karşılaştırması\")\n",
    "plt.ylim(0, 1)\n",
    "\n",
    "legend_elements = [\n",
    "    Patch(facecolor='lightblue', label=\"Top-1 (Tekil)\"),\n",
    "    Patch(facecolor='steelblue', label=\"Top-5 (Tekil)\"),\n",
    "    Patch(facecolor='orange', label=\"Top-1 (Ensemble)\"),\n",
    "    Patch(facecolor='red', label=\"Top-5 (Ensemble)\")\n",
    "]\n",
    "\n",
    "# Legend'i ekle\n",
    "plt.legend(handles=legend_elements, loc=\"upper left\", bbox_to_anchor=(1, 1))\n",
    "\n",
    "plt.tight_layout()\n",
    "plt.show()"
   ]
  },
  {
   "cell_type": "code",
   "execution_count": null,
   "id": "3XbbIp7gO8nt",
   "metadata": {
    "id": "3XbbIp7gO8nt"
   },
   "outputs": [],
   "source": []
  },
  {
   "cell_type": "code",
   "execution_count": null,
   "id": "85896007-c77f-4041-928c-0ff2558da0a3",
   "metadata": {},
   "outputs": [],
   "source": []
  }
 ],
 "metadata": {
  "colab": {
   "machine_shape": "hm",
   "provenance": [
    {
     "file_id": "17JQGbnAsNhm1JGRYlXy8appsowz1l-xe",
     "timestamp": 1734460667854
    },
    {
     "file_id": "1z4o46gVUTVtcUcsJ7oXucSDU93uF5g-R",
     "timestamp": 1733142110847
    }
   ]
  },
  "kernelspec": {
   "display_name": "Python 3",
   "language": "python",
   "name": "python3"
  },
  "language_info": {
   "codemirror_mode": {
    "name": "ipython",
    "version": 3
   },
   "file_extension": ".py",
   "mimetype": "text/x-python",
   "name": "python",
   "nbconvert_exporter": "python",
   "pygments_lexer": "ipython3",
   "version": "3.11.9"
  }
 },
 "nbformat": 4,
 "nbformat_minor": 5
}
